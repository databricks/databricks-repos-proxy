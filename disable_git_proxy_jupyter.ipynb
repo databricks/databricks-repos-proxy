{
 "cells": [
  {
   "cell_type": "markdown",
   "metadata": {
    "application/vnd.databricks.v1+cell": {
     "cellMetadata": {},
     "inputWidgets": {},
     "nuid": "422fe1be-2699-41b8-8b27-87a1ccfa1220",
     "showTitle": false,
     "title": ""
    }
   },
   "source": [
    "## Disable the feature\n",
    "**Note you must be an admin to update the feature flag**\n",
    "\n",
    "Running the cell below sets the feature flag to false. You should also terminate the Git proxy cluster manually by going to the \"Compute\" page."
   ]
  },
  {
   "cell_type": "code",
   "execution_count": 0,
   "metadata": {
    "application/vnd.databricks.v1+cell": {
     "cellMetadata": {
      "byteLimit": 2048000,
      "rowLimit": 10000
     },
     "inputWidgets": {},
     "nuid": "4f871b39-3f61-4f8e-8794-cdd71349dc26",
     "showTitle": false,
     "title": ""
    }
   },
   "outputs": [
    {
     "output_type": "stream",
     "name": "stdout",
     "output_type": "stream",
     "text": [
      "patch_response: <Response [204]>, \nThis value of enableGitProxy should be false -- Get enableGitProxy response: <Response [200]>, {\"enableGitProxy\":\"false\"}\n\n"
     ]
    }
   ],
   "source": [
    "import requests\n",
    "\n",
    "admin_token = (\n",
    "    dbutils.notebook.entry_point.getDbutils().notebook().getContext().apiToken().get()\n",
    ")\n",
    "databricks_instance = (\n",
    "    dbutils.notebook.entry_point.getDbutils().notebook().getContext().apiUrl().get()\n",
    ")\n",
    "\n",
    "headers = {\"Authorization\": f\"Bearer {admin_token}\"}\n",
    "WORKSPACE_CONF_ENDPOINT = \"/api/2.0/workspace-conf\"\n",
    "patch_enable_git_proxy_data = {\"enableGitProxy\": \"false\"}\n",
    "patch_response = requests.patch(\n",
    "    databricks_instance + WORKSPACE_CONF_ENDPOINT,\n",
    "    headers=headers,\n",
    "    json=patch_enable_git_proxy_data,\n",
    ")\n",
    "print(f\"patch_response: {patch_response}, {patch_response.text}\")\n",
    "get_flag_response = requests.get(\n",
    "    databricks_instance + WORKSPACE_CONF_ENDPOINT + \"?keys=enableGitProxy\",\n",
    "    headers=headers,\n",
    ")\n",
    "print(\n",
    "    f\"This value of enableGitProxy should be false -- Get enableGitProxy response: {get_flag_response}, {get_flag_response.text}\"\n",
    ")"
   ]
  },
  {
   "cell_type": "code",
   "execution_count": 0,
   "metadata": {
    "application/vnd.databricks.v1+cell": {
     "cellMetadata": {},
     "inputWidgets": {},
     "nuid": "7d1d9760-e0b7-4e9a-ba4e-6c3b46efc6ac",
     "showTitle": false,
     "title": ""
    }
   },
   "outputs": [],
   "source": []
  }
 ],
 "metadata": {
  "application/vnd.databricks.v1+notebook": {
   "dashboards": [],
   "language": "python",
   "notebookMetadata": {
    "pythonIndentUnit": 4
   },
   "notebookName": "disable_git_proxy",
   "notebookOrigID": 1552489026572282,
   "widgets": {}
  }
 },
 "nbformat": 4,
 "nbformat_minor": 0
}
