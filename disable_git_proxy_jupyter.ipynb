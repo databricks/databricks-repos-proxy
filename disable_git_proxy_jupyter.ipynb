{
 "cells": [
  {
   "cell_type": "markdown",
   "metadata": {
    "application/vnd.databricks.v1+cell": {
     "cellMetadata": {},
     "inputWidgets": {},
     "nuid": "422fe1be-2699-41b8-8b27-87a1ccfa1220",
     "showTitle": false,
     "title": ""
    }
   },
   "source": [
    "## Disable the feature\n",
    "**Note you must be an admin to update the feature flag**\n",
    "\n",
    "Running the cell below disables the feature flag. You should also manually terminate the Git proxy cluster from the *Compute* page. Note: These changes may take up to 15 minutes to take effect."
   ]
  },
  {
   "cell_type": "code",
   "execution_count": 0,
   "metadata": {
    "application/vnd.databricks.v1+cell": {
     "cellMetadata": {},
     "inputWidgets": {},
     "nuid": "4e849355-fa18-42b8-8f1e-36083f81651d",
     "showTitle": false,
     "title": ""
    }
   },
   "outputs": [],
   "source": [
    "%pip install databricks-sdk==0.9.0 --upgrade\n",
    "dbutils.library.restartPython()"
   ]
  },
  {
   "cell_type": "code",
   "execution_count": 0,
   "metadata": {
    "application/vnd.databricks.v1+cell": {
     "cellMetadata": {},
     "inputWidgets": {},
     "nuid": "6982d634-0557-4000-895d-46fd0faac412",
     "showTitle": false,
     "title": ""
    }
   },
   "outputs": [],
   "source": [
    "from databricks.sdk.core import ApiClient\n",
    "client = ApiClient()"
   ]
  },
  {
   "cell_type": "code",
   "execution_count": 0,
   "metadata": {
    "application/vnd.databricks.v1+cell": {
     "cellMetadata": {},
     "inputWidgets": {},
     "nuid": "c8edb629-e6db-47c8-9f9b-b9b2532023e1",
     "showTitle": false,
     "title": ""
    }
   },
   "outputs": [],
   "source": [
    "enable_patch_response = client.do(\"PATCH\", \"/api/2.0/workspace-conf\", body={\"enableGitProxy\": \"false\"}, headers={\"Content-Type\": \"application/json\"})\n",
    "cluster_patch_response = client.do(\"PATCH\", \"/api/2.0/workspace-conf\", body={\"gitProxyClusterId\": \"\"}, headers={\"Content-Type\": \"application/json\"})\n",
    "\n",
    "enable_get_response = client.do(\"GET\", \"/api/2.0/workspace-conf\", {\"keys\": \"enableGitProxy\"})\n",
    "print(f\"This value of enableGitProxy should be false -- Get enableGitProxy response: {enable_get_response}\")"
   ]
  }
 ],
 "metadata": {
  "application/vnd.databricks.v1+notebook": {
   "dashboards": [],
   "language": "python",
   "notebookMetadata": {
    "pythonIndentUnit": 4
   },
   "notebookName": "disable_git_proxy_jupyter",
   "widgets": {}
  }
 },
 "nbformat": 4,
 "nbformat_minor": 0
}
